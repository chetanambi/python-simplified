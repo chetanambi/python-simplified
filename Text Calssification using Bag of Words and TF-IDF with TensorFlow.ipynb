{
 "cells": [
  {
   "cell_type": "code",
   "execution_count": 1,
   "id": "46e5e459",
   "metadata": {
    "execution": {
     "iopub.execute_input": "2022-11-30T04:56:46.396708Z",
     "iopub.status.busy": "2022-11-30T04:56:46.396235Z",
     "iopub.status.idle": "2022-11-30T04:57:02.660412Z",
     "shell.execute_reply": "2022-11-30T04:57:02.659279Z"
    },
    "papermill": {
     "duration": 16.27741,
     "end_time": "2022-11-30T04:57:02.663172",
     "exception": false,
     "start_time": "2022-11-30T04:56:46.385762",
     "status": "completed"
    },
    "tags": []
   },
   "outputs": [
    {
     "name": "stdout",
     "output_type": "stream",
     "text": [
      "Collecting tensorflow-determinism\r\n",
      "  Downloading tensorflow-determinism-0.3.0.tar.gz (12 kB)\r\n",
      "  Preparing metadata (setup.py) ... \u001b[?25l-\b \bdone\r\n",
      "\u001b[?25hDiscarding \u001b[4;34mhttps://files.pythonhosted.org/packages/76/56/79d74f25b326d8719753172496abc524980fa67d1d98bb247021376e370a/tensorflow-determinism-0.3.0.tar.gz#sha256=563316b785614df300bbdec9b3c45a94d212761aec796cf1aafcbb2f69fdeb01 (from https://pypi.org/simple/tensorflow-determinism/)\u001b[0m: \u001b[33mRequested tensorflow-determinism from https://files.pythonhosted.org/packages/76/56/79d74f25b326d8719753172496abc524980fa67d1d98bb247021376e370a/tensorflow-determinism-0.3.0.tar.gz#sha256=563316b785614df300bbdec9b3c45a94d212761aec796cf1aafcbb2f69fdeb01 has inconsistent version: filename has '0.3.0', but metadata has '0.4.1'\u001b[0m\r\n",
      "  Downloading tensorflow-determinism-0.2.0.tar.gz (10 kB)\r\n",
      "  Preparing metadata (setup.py) ... \u001b[?25l-\b \bdone\r\n",
      "\u001b[?25hDiscarding \u001b[4;34mhttps://files.pythonhosted.org/packages/9b/28/4aa0d8f183d13d3477626e931a3363651bb8e291165d58962a39c57ae7fb/tensorflow-determinism-0.2.0.tar.gz#sha256=1e364b142acd96ec8a8fca6dee32ef04e1c5f5ca20bd83fc9ec37f7dbf2fb5b5 (from https://pypi.org/simple/tensorflow-determinism/)\u001b[0m: \u001b[33mRequested tensorflow-determinism from https://files.pythonhosted.org/packages/9b/28/4aa0d8f183d13d3477626e931a3363651bb8e291165d58962a39c57ae7fb/tensorflow-determinism-0.2.0.tar.gz#sha256=1e364b142acd96ec8a8fca6dee32ef04e1c5f5ca20bd83fc9ec37f7dbf2fb5b5 has inconsistent version: filename has '0.2.0', but metadata has '0.4.1'\u001b[0m\r\n",
      "  Downloading tensorflow-determinism-0.1.0.tar.gz (7.2 kB)\r\n",
      "  Preparing metadata (setup.py) ... \u001b[?25l-\b \bdone\r\n",
      "\u001b[?25hBuilding wheels for collected packages: tensorflow-determinism\r\n",
      "  Building wheel for tensorflow-determinism (setup.py) ... \u001b[?25l-\b \b\\\b \bdone\r\n",
      "\u001b[?25h  Created wheel for tensorflow-determinism: filename=tensorflow_determinism-0.1.0-py3-none-any.whl size=5255 sha256=c14789389e4d5a528c3d3b8aa8256597c5b7a4e58ed8ff4ae69a94a93d928b32\r\n",
      "  Stored in directory: /root/.cache/pip/wheels/ce/06/d4/df757adc4c81f705a74a0317c27cf19919ccd25ae2a6ecd2c5\r\n",
      "Successfully built tensorflow-determinism\r\n",
      "Installing collected packages: tensorflow-determinism\r\n",
      "Successfully installed tensorflow-determinism-0.1.0\r\n",
      "\u001b[33mWARNING: Running pip as the 'root' user can result in broken permissions and conflicting behaviour with the system package manager. It is recommended to use a virtual environment instead: https://pip.pypa.io/warnings/venv\u001b[0m\u001b[33m\r\n",
      "\u001b[0m"
     ]
    }
   ],
   "source": [
    "!pip install tensorflow-determinism"
   ]
  },
  {
   "cell_type": "markdown",
   "id": "ee279a4d",
   "metadata": {
    "papermill": {
     "duration": 0.007976,
     "end_time": "2022-11-30T04:57:02.679788",
     "exception": false,
     "start_time": "2022-11-30T04:57:02.671812",
     "status": "completed"
    },
    "tags": []
   },
   "source": [
    "# Import libraries"
   ]
  },
  {
   "cell_type": "code",
   "execution_count": 2,
   "id": "aaf3d7b0",
   "metadata": {
    "execution": {
     "iopub.execute_input": "2022-11-30T04:57:02.698427Z",
     "iopub.status.busy": "2022-11-30T04:57:02.697993Z",
     "iopub.status.idle": "2022-11-30T04:57:09.547891Z",
     "shell.execute_reply": "2022-11-30T04:57:09.546876Z"
    },
    "papermill": {
     "duration": 6.862948,
     "end_time": "2022-11-30T04:57:09.550922",
     "exception": false,
     "start_time": "2022-11-30T04:57:02.687974",
     "status": "completed"
    },
    "tags": []
   },
   "outputs": [
    {
     "name": "stdout",
     "output_type": "stream",
     "text": [
      "Tensorflow version: 2.6.4\n"
     ]
    }
   ],
   "source": [
    "import os\n",
    "import io\n",
    "import random\n",
    "\n",
    "import numpy as np\n",
    "import pandas as pd\n",
    "pd.options.plotting.backend = \"plotly\"\n",
    "import matplotlib.pyplot as plt\n",
    "\n",
    "import tensorflow as tf\n",
    "from tensorflow.keras import layers\n",
    "from tensorflow.keras import losses\n",
    "from tensorflow.keras.regularizers import L2\n",
    "from tensorflow.keras.utils import plot_model\n",
    "from tensorflow.keras import Sequential\n",
    "from tensorflow.keras.layers import TextVectorization\n",
    "\n",
    "print(\"Tensorflow version:\", tf.__version__)\n",
    "\n",
    "from sklearn.metrics import accuracy_score\n",
    "from sklearn.model_selection import train_test_split"
   ]
  },
  {
   "cell_type": "code",
   "execution_count": 3,
   "id": "f9244137",
   "metadata": {
    "execution": {
     "iopub.execute_input": "2022-11-30T04:57:09.570260Z",
     "iopub.status.busy": "2022-11-30T04:57:09.569570Z",
     "iopub.status.idle": "2022-11-30T04:57:09.577693Z",
     "shell.execute_reply": "2022-11-30T04:57:09.576398Z"
    },
    "papermill": {
     "duration": 0.020133,
     "end_time": "2022-11-30T04:57:09.579937",
     "exception": false,
     "start_time": "2022-11-30T04:57:09.559804",
     "status": "completed"
    },
    "tags": []
   },
   "outputs": [],
   "source": [
    "SEED = 42\n",
    "def set_seeds(seed):\n",
    "    os.environ['PYTHONHASHSEED'] = str(seed)\n",
    "    random.seed(seed)\n",
    "    tf.random.set_seed(seed)\n",
    "    np.random.seed(seed)\n",
    "    \n",
    "def set_global_determinism(seed):\n",
    "    set_seeds(seed)\n",
    "    os.environ['TF_DETERMINISTIC_OPS'] = '1'\n",
    "    os.environ['TF_CUDNN_DETERMINISTIC'] = '1'\n",
    "    tf.config.threading.set_inter_op_parallelism_threads(1)\n",
    "    tf.config.threading.set_intra_op_parallelism_threads(1)\n",
    "\n",
    "set_global_determinism(seed=SEED)"
   ]
  },
  {
   "cell_type": "code",
   "execution_count": 4,
   "id": "f43ada49",
   "metadata": {
    "execution": {
     "iopub.execute_input": "2022-11-30T04:57:09.599421Z",
     "iopub.status.busy": "2022-11-30T04:57:09.598956Z",
     "iopub.status.idle": "2022-11-30T04:57:09.611676Z",
     "shell.execute_reply": "2022-11-30T04:57:09.610051Z"
    },
    "papermill": {
     "duration": 0.025333,
     "end_time": "2022-11-30T04:57:09.614288",
     "exception": false,
     "start_time": "2022-11-30T04:57:09.588955",
     "status": "completed"
    },
    "tags": []
   },
   "outputs": [
    {
     "name": "stdout",
     "output_type": "stream",
     "text": [
      "/kaggle/input/imdb-dataset-of-50k-movie-reviews/IMDB Dataset.csv\n"
     ]
    }
   ],
   "source": [
    "for dirname, _, filenames in os.walk('/kaggle/input'):\n",
    "    for filename in filenames:\n",
    "        print(os.path.join(dirname, filename))"
   ]
  },
  {
   "cell_type": "markdown",
   "id": "84e61fa1",
   "metadata": {
    "papermill": {
     "duration": 0.008417,
     "end_time": "2022-11-30T04:57:09.633217",
     "exception": false,
     "start_time": "2022-11-30T04:57:09.624800",
     "status": "completed"
    },
    "tags": []
   },
   "source": [
    "# Import dataset and EDA"
   ]
  },
  {
   "cell_type": "code",
   "execution_count": 5,
   "id": "7a888632",
   "metadata": {
    "execution": {
     "iopub.execute_input": "2022-11-30T04:57:09.653250Z",
     "iopub.status.busy": "2022-11-30T04:57:09.652638Z",
     "iopub.status.idle": "2022-11-30T04:57:11.409517Z",
     "shell.execute_reply": "2022-11-30T04:57:11.408326Z"
    },
    "papermill": {
     "duration": 1.770255,
     "end_time": "2022-11-30T04:57:11.412165",
     "exception": false,
     "start_time": "2022-11-30T04:57:09.641910",
     "status": "completed"
    },
    "tags": []
   },
   "outputs": [
    {
     "data": {
      "text/plain": [
       "(50000, 2)"
      ]
     },
     "execution_count": 5,
     "metadata": {},
     "output_type": "execute_result"
    }
   ],
   "source": [
    "df = pd.read_csv('/kaggle/input/imdb-dataset-of-50k-movie-reviews/IMDB Dataset.csv')\n",
    "df.shape"
   ]
  },
  {
   "cell_type": "code",
   "execution_count": 6,
   "id": "673206bb",
   "metadata": {
    "execution": {
     "iopub.execute_input": "2022-11-30T04:57:11.432466Z",
     "iopub.status.busy": "2022-11-30T04:57:11.431748Z",
     "iopub.status.idle": "2022-11-30T04:57:11.450216Z",
     "shell.execute_reply": "2022-11-30T04:57:11.449051Z"
    },
    "papermill": {
     "duration": 0.031539,
     "end_time": "2022-11-30T04:57:11.452745",
     "exception": false,
     "start_time": "2022-11-30T04:57:11.421206",
     "status": "completed"
    },
    "tags": []
   },
   "outputs": [
    {
     "data": {
      "text/html": [
       "<div>\n",
       "<style scoped>\n",
       "    .dataframe tbody tr th:only-of-type {\n",
       "        vertical-align: middle;\n",
       "    }\n",
       "\n",
       "    .dataframe tbody tr th {\n",
       "        vertical-align: top;\n",
       "    }\n",
       "\n",
       "    .dataframe thead th {\n",
       "        text-align: right;\n",
       "    }\n",
       "</style>\n",
       "<table border=\"1\" class=\"dataframe\">\n",
       "  <thead>\n",
       "    <tr style=\"text-align: right;\">\n",
       "      <th></th>\n",
       "      <th>review</th>\n",
       "      <th>sentiment</th>\n",
       "    </tr>\n",
       "  </thead>\n",
       "  <tbody>\n",
       "    <tr>\n",
       "      <th>0</th>\n",
       "      <td>One of the other reviewers has mentioned that ...</td>\n",
       "      <td>positive</td>\n",
       "    </tr>\n",
       "    <tr>\n",
       "      <th>1</th>\n",
       "      <td>A wonderful little production. &lt;br /&gt;&lt;br /&gt;The...</td>\n",
       "      <td>positive</td>\n",
       "    </tr>\n",
       "    <tr>\n",
       "      <th>2</th>\n",
       "      <td>I thought this was a wonderful way to spend ti...</td>\n",
       "      <td>positive</td>\n",
       "    </tr>\n",
       "    <tr>\n",
       "      <th>3</th>\n",
       "      <td>Basically there's a family where a little boy ...</td>\n",
       "      <td>negative</td>\n",
       "    </tr>\n",
       "    <tr>\n",
       "      <th>4</th>\n",
       "      <td>Petter Mattei's \"Love in the Time of Money\" is...</td>\n",
       "      <td>positive</td>\n",
       "    </tr>\n",
       "  </tbody>\n",
       "</table>\n",
       "</div>"
      ],
      "text/plain": [
       "                                              review sentiment\n",
       "0  One of the other reviewers has mentioned that ...  positive\n",
       "1  A wonderful little production. <br /><br />The...  positive\n",
       "2  I thought this was a wonderful way to spend ti...  positive\n",
       "3  Basically there's a family where a little boy ...  negative\n",
       "4  Petter Mattei's \"Love in the Time of Money\" is...  positive"
      ]
     },
     "execution_count": 6,
     "metadata": {},
     "output_type": "execute_result"
    }
   ],
   "source": [
    "df.head()"
   ]
  },
  {
   "cell_type": "code",
   "execution_count": 7,
   "id": "c3d3fa46",
   "metadata": {
    "execution": {
     "iopub.execute_input": "2022-11-30T04:57:11.472609Z",
     "iopub.status.busy": "2022-11-30T04:57:11.472180Z",
     "iopub.status.idle": "2022-11-30T04:57:13.470380Z",
     "shell.execute_reply": "2022-11-30T04:57:13.469496Z"
    },
    "papermill": {
     "duration": 2.010904,
     "end_time": "2022-11-30T04:57:13.472616",
     "exception": false,
     "start_time": "2022-11-30T04:57:11.461712",
     "status": "completed"
    },
    "tags": []
   },
   "outputs": [
    {
     "data": {
      "text/html": [
       "        <script type=\"text/javascript\">\n",
       "        window.PlotlyConfig = {MathJaxConfig: 'local'};\n",
       "        if (window.MathJax && window.MathJax.Hub && window.MathJax.Hub.Config) {window.MathJax.Hub.Config({SVG: {font: \"STIX-Web\"}});}\n",
       "        if (typeof require !== 'undefined') {\n",
       "        require.undef(\"plotly\");\n",
       "        requirejs.config({\n",
       "            paths: {\n",
       "                'plotly': ['https://cdn.plot.ly/plotly-2.14.0.min']\n",
       "            }\n",
       "        });\n",
       "        require(['plotly'], function(Plotly) {\n",
       "            window._Plotly = Plotly;\n",
       "        });\n",
       "        }\n",
       "        </script>\n",
       "        "
      ]
     },
     "metadata": {},
     "output_type": "display_data"
    },
    {
     "data": {
      "text/html": [
       "<div>                            <div id=\"ccbbef73-9c2b-47ad-84f9-084dd55099bd\" class=\"plotly-graph-div\" style=\"height:525px; width:100%;\"></div>            <script type=\"text/javascript\">                require([\"plotly\"], function(Plotly) {                    window.PLOTLYENV=window.PLOTLYENV || {};                                    if (document.getElementById(\"ccbbef73-9c2b-47ad-84f9-084dd55099bd\")) {                    Plotly.newPlot(                        \"ccbbef73-9c2b-47ad-84f9-084dd55099bd\",                        [{\"alignmentgroup\":\"True\",\"hovertemplate\":\"variable=sentiment<br>index=%{x}<br>value=%{y}<extra></extra>\",\"legendgroup\":\"sentiment\",\"marker\":{\"color\":\"#636efa\",\"pattern\":{\"shape\":\"\"}},\"name\":\"sentiment\",\"offsetgroup\":\"sentiment\",\"orientation\":\"v\",\"showlegend\":true,\"textposition\":\"auto\",\"x\":[\"positive\",\"negative\"],\"xaxis\":\"x\",\"y\":[25000,25000],\"yaxis\":\"y\",\"type\":\"bar\"}],                        {\"template\":{\"data\":{\"histogram2dcontour\":[{\"type\":\"histogram2dcontour\",\"colorbar\":{\"outlinewidth\":0,\"ticks\":\"\"},\"colorscale\":[[0.0,\"#0d0887\"],[0.1111111111111111,\"#46039f\"],[0.2222222222222222,\"#7201a8\"],[0.3333333333333333,\"#9c179e\"],[0.4444444444444444,\"#bd3786\"],[0.5555555555555556,\"#d8576b\"],[0.6666666666666666,\"#ed7953\"],[0.7777777777777778,\"#fb9f3a\"],[0.8888888888888888,\"#fdca26\"],[1.0,\"#f0f921\"]]}],\"choropleth\":[{\"type\":\"choropleth\",\"colorbar\":{\"outlinewidth\":0,\"ticks\":\"\"}}],\"histogram2d\":[{\"type\":\"histogram2d\",\"colorbar\":{\"outlinewidth\":0,\"ticks\":\"\"},\"colorscale\":[[0.0,\"#0d0887\"],[0.1111111111111111,\"#46039f\"],[0.2222222222222222,\"#7201a8\"],[0.3333333333333333,\"#9c179e\"],[0.4444444444444444,\"#bd3786\"],[0.5555555555555556,\"#d8576b\"],[0.6666666666666666,\"#ed7953\"],[0.7777777777777778,\"#fb9f3a\"],[0.8888888888888888,\"#fdca26\"],[1.0,\"#f0f921\"]]}],\"heatmap\":[{\"type\":\"heatmap\",\"colorbar\":{\"outlinewidth\":0,\"ticks\":\"\"},\"colorscale\":[[0.0,\"#0d0887\"],[0.1111111111111111,\"#46039f\"],[0.2222222222222222,\"#7201a8\"],[0.3333333333333333,\"#9c179e\"],[0.4444444444444444,\"#bd3786\"],[0.5555555555555556,\"#d8576b\"],[0.6666666666666666,\"#ed7953\"],[0.7777777777777778,\"#fb9f3a\"],[0.8888888888888888,\"#fdca26\"],[1.0,\"#f0f921\"]]}],\"heatmapgl\":[{\"type\":\"heatmapgl\",\"colorbar\":{\"outlinewidth\":0,\"ticks\":\"\"},\"colorscale\":[[0.0,\"#0d0887\"],[0.1111111111111111,\"#46039f\"],[0.2222222222222222,\"#7201a8\"],[0.3333333333333333,\"#9c179e\"],[0.4444444444444444,\"#bd3786\"],[0.5555555555555556,\"#d8576b\"],[0.6666666666666666,\"#ed7953\"],[0.7777777777777778,\"#fb9f3a\"],[0.8888888888888888,\"#fdca26\"],[1.0,\"#f0f921\"]]}],\"contourcarpet\":[{\"type\":\"contourcarpet\",\"colorbar\":{\"outlinewidth\":0,\"ticks\":\"\"}}],\"contour\":[{\"type\":\"contour\",\"colorbar\":{\"outlinewidth\":0,\"ticks\":\"\"},\"colorscale\":[[0.0,\"#0d0887\"],[0.1111111111111111,\"#46039f\"],[0.2222222222222222,\"#7201a8\"],[0.3333333333333333,\"#9c179e\"],[0.4444444444444444,\"#bd3786\"],[0.5555555555555556,\"#d8576b\"],[0.6666666666666666,\"#ed7953\"],[0.7777777777777778,\"#fb9f3a\"],[0.8888888888888888,\"#fdca26\"],[1.0,\"#f0f921\"]]}],\"surface\":[{\"type\":\"surface\",\"colorbar\":{\"outlinewidth\":0,\"ticks\":\"\"},\"colorscale\":[[0.0,\"#0d0887\"],[0.1111111111111111,\"#46039f\"],[0.2222222222222222,\"#7201a8\"],[0.3333333333333333,\"#9c179e\"],[0.4444444444444444,\"#bd3786\"],[0.5555555555555556,\"#d8576b\"],[0.6666666666666666,\"#ed7953\"],[0.7777777777777778,\"#fb9f3a\"],[0.8888888888888888,\"#fdca26\"],[1.0,\"#f0f921\"]]}],\"mesh3d\":[{\"type\":\"mesh3d\",\"colorbar\":{\"outlinewidth\":0,\"ticks\":\"\"}}],\"scatter\":[{\"fillpattern\":{\"fillmode\":\"overlay\",\"size\":10,\"solidity\":0.2},\"type\":\"scatter\"}],\"parcoords\":[{\"type\":\"parcoords\",\"line\":{\"colorbar\":{\"outlinewidth\":0,\"ticks\":\"\"}}}],\"scatterpolargl\":[{\"type\":\"scatterpolargl\",\"marker\":{\"colorbar\":{\"outlinewidth\":0,\"ticks\":\"\"}}}],\"bar\":[{\"error_x\":{\"color\":\"#2a3f5f\"},\"error_y\":{\"color\":\"#2a3f5f\"},\"marker\":{\"line\":{\"color\":\"#E5ECF6\",\"width\":0.5},\"pattern\":{\"fillmode\":\"overlay\",\"size\":10,\"solidity\":0.2}},\"type\":\"bar\"}],\"scattergeo\":[{\"type\":\"scattergeo\",\"marker\":{\"colorbar\":{\"outlinewidth\":0,\"ticks\":\"\"}}}],\"scatterpolar\":[{\"type\":\"scatterpolar\",\"marker\":{\"colorbar\":{\"outlinewidth\":0,\"ticks\":\"\"}}}],\"histogram\":[{\"marker\":{\"pattern\":{\"fillmode\":\"overlay\",\"size\":10,\"solidity\":0.2}},\"type\":\"histogram\"}],\"scattergl\":[{\"type\":\"scattergl\",\"marker\":{\"colorbar\":{\"outlinewidth\":0,\"ticks\":\"\"}}}],\"scatter3d\":[{\"type\":\"scatter3d\",\"line\":{\"colorbar\":{\"outlinewidth\":0,\"ticks\":\"\"}},\"marker\":{\"colorbar\":{\"outlinewidth\":0,\"ticks\":\"\"}}}],\"scattermapbox\":[{\"type\":\"scattermapbox\",\"marker\":{\"colorbar\":{\"outlinewidth\":0,\"ticks\":\"\"}}}],\"scatterternary\":[{\"type\":\"scatterternary\",\"marker\":{\"colorbar\":{\"outlinewidth\":0,\"ticks\":\"\"}}}],\"scattercarpet\":[{\"type\":\"scattercarpet\",\"marker\":{\"colorbar\":{\"outlinewidth\":0,\"ticks\":\"\"}}}],\"carpet\":[{\"aaxis\":{\"endlinecolor\":\"#2a3f5f\",\"gridcolor\":\"white\",\"linecolor\":\"white\",\"minorgridcolor\":\"white\",\"startlinecolor\":\"#2a3f5f\"},\"baxis\":{\"endlinecolor\":\"#2a3f5f\",\"gridcolor\":\"white\",\"linecolor\":\"white\",\"minorgridcolor\":\"white\",\"startlinecolor\":\"#2a3f5f\"},\"type\":\"carpet\"}],\"table\":[{\"cells\":{\"fill\":{\"color\":\"#EBF0F8\"},\"line\":{\"color\":\"white\"}},\"header\":{\"fill\":{\"color\":\"#C8D4E3\"},\"line\":{\"color\":\"white\"}},\"type\":\"table\"}],\"barpolar\":[{\"marker\":{\"line\":{\"color\":\"#E5ECF6\",\"width\":0.5},\"pattern\":{\"fillmode\":\"overlay\",\"size\":10,\"solidity\":0.2}},\"type\":\"barpolar\"}],\"pie\":[{\"automargin\":true,\"type\":\"pie\"}]},\"layout\":{\"autotypenumbers\":\"strict\",\"colorway\":[\"#636efa\",\"#EF553B\",\"#00cc96\",\"#ab63fa\",\"#FFA15A\",\"#19d3f3\",\"#FF6692\",\"#B6E880\",\"#FF97FF\",\"#FECB52\"],\"font\":{\"color\":\"#2a3f5f\"},\"hovermode\":\"closest\",\"hoverlabel\":{\"align\":\"left\"},\"paper_bgcolor\":\"white\",\"plot_bgcolor\":\"#E5ECF6\",\"polar\":{\"bgcolor\":\"#E5ECF6\",\"angularaxis\":{\"gridcolor\":\"white\",\"linecolor\":\"white\",\"ticks\":\"\"},\"radialaxis\":{\"gridcolor\":\"white\",\"linecolor\":\"white\",\"ticks\":\"\"}},\"ternary\":{\"bgcolor\":\"#E5ECF6\",\"aaxis\":{\"gridcolor\":\"white\",\"linecolor\":\"white\",\"ticks\":\"\"},\"baxis\":{\"gridcolor\":\"white\",\"linecolor\":\"white\",\"ticks\":\"\"},\"caxis\":{\"gridcolor\":\"white\",\"linecolor\":\"white\",\"ticks\":\"\"}},\"coloraxis\":{\"colorbar\":{\"outlinewidth\":0,\"ticks\":\"\"}},\"colorscale\":{\"sequential\":[[0.0,\"#0d0887\"],[0.1111111111111111,\"#46039f\"],[0.2222222222222222,\"#7201a8\"],[0.3333333333333333,\"#9c179e\"],[0.4444444444444444,\"#bd3786\"],[0.5555555555555556,\"#d8576b\"],[0.6666666666666666,\"#ed7953\"],[0.7777777777777778,\"#fb9f3a\"],[0.8888888888888888,\"#fdca26\"],[1.0,\"#f0f921\"]],\"sequentialminus\":[[0.0,\"#0d0887\"],[0.1111111111111111,\"#46039f\"],[0.2222222222222222,\"#7201a8\"],[0.3333333333333333,\"#9c179e\"],[0.4444444444444444,\"#bd3786\"],[0.5555555555555556,\"#d8576b\"],[0.6666666666666666,\"#ed7953\"],[0.7777777777777778,\"#fb9f3a\"],[0.8888888888888888,\"#fdca26\"],[1.0,\"#f0f921\"]],\"diverging\":[[0,\"#8e0152\"],[0.1,\"#c51b7d\"],[0.2,\"#de77ae\"],[0.3,\"#f1b6da\"],[0.4,\"#fde0ef\"],[0.5,\"#f7f7f7\"],[0.6,\"#e6f5d0\"],[0.7,\"#b8e186\"],[0.8,\"#7fbc41\"],[0.9,\"#4d9221\"],[1,\"#276419\"]]},\"xaxis\":{\"gridcolor\":\"white\",\"linecolor\":\"white\",\"ticks\":\"\",\"title\":{\"standoff\":15},\"zerolinecolor\":\"white\",\"automargin\":true,\"zerolinewidth\":2},\"yaxis\":{\"gridcolor\":\"white\",\"linecolor\":\"white\",\"ticks\":\"\",\"title\":{\"standoff\":15},\"zerolinecolor\":\"white\",\"automargin\":true,\"zerolinewidth\":2},\"scene\":{\"xaxis\":{\"backgroundcolor\":\"#E5ECF6\",\"gridcolor\":\"white\",\"linecolor\":\"white\",\"showbackground\":true,\"ticks\":\"\",\"zerolinecolor\":\"white\",\"gridwidth\":2},\"yaxis\":{\"backgroundcolor\":\"#E5ECF6\",\"gridcolor\":\"white\",\"linecolor\":\"white\",\"showbackground\":true,\"ticks\":\"\",\"zerolinecolor\":\"white\",\"gridwidth\":2},\"zaxis\":{\"backgroundcolor\":\"#E5ECF6\",\"gridcolor\":\"white\",\"linecolor\":\"white\",\"showbackground\":true,\"ticks\":\"\",\"zerolinecolor\":\"white\",\"gridwidth\":2}},\"shapedefaults\":{\"line\":{\"color\":\"#2a3f5f\"}},\"annotationdefaults\":{\"arrowcolor\":\"#2a3f5f\",\"arrowhead\":0,\"arrowwidth\":1},\"geo\":{\"bgcolor\":\"white\",\"landcolor\":\"#E5ECF6\",\"subunitcolor\":\"white\",\"showland\":true,\"showlakes\":true,\"lakecolor\":\"white\"},\"title\":{\"x\":0.05},\"mapbox\":{\"style\":\"light\"}}},\"xaxis\":{\"anchor\":\"y\",\"domain\":[0.0,1.0],\"title\":{\"text\":\"index\"}},\"yaxis\":{\"anchor\":\"x\",\"domain\":[0.0,1.0],\"title\":{\"text\":\"value\"}},\"legend\":{\"title\":{\"text\":\"variable\"},\"tracegroupgap\":0},\"margin\":{\"t\":60},\"barmode\":\"relative\"},                        {\"responsive\": true}                    ).then(function(){\n",
       "                            \n",
       "var gd = document.getElementById('ccbbef73-9c2b-47ad-84f9-084dd55099bd');\n",
       "var x = new MutationObserver(function (mutations, observer) {{\n",
       "        var display = window.getComputedStyle(gd).display;\n",
       "        if (!display || display === 'none') {{\n",
       "            console.log([gd, 'removed!']);\n",
       "            Plotly.purge(gd);\n",
       "            observer.disconnect();\n",
       "        }}\n",
       "}});\n",
       "\n",
       "// Listen for the removal of the full notebook cells\n",
       "var notebookContainer = gd.closest('#notebook-container');\n",
       "if (notebookContainer) {{\n",
       "    x.observe(notebookContainer, {childList: true});\n",
       "}}\n",
       "\n",
       "// Listen for the clearing of the current output cell\n",
       "var outputEl = gd.closest('.output');\n",
       "if (outputEl) {{\n",
       "    x.observe(outputEl, {childList: true});\n",
       "}}\n",
       "\n",
       "                        })                };                });            </script>        </div>"
      ]
     },
     "metadata": {},
     "output_type": "display_data"
    }
   ],
   "source": [
    "df['sentiment'].value_counts().plot(kind='bar')"
   ]
  },
  {
   "cell_type": "code",
   "execution_count": 8,
   "id": "1efc1c50",
   "metadata": {
    "execution": {
     "iopub.execute_input": "2022-11-30T04:57:13.493092Z",
     "iopub.status.busy": "2022-11-30T04:57:13.492391Z",
     "iopub.status.idle": "2022-11-30T04:57:13.504924Z",
     "shell.execute_reply": "2022-11-30T04:57:13.503795Z"
    },
    "papermill": {
     "duration": 0.025572,
     "end_time": "2022-11-30T04:57:13.507488",
     "exception": false,
     "start_time": "2022-11-30T04:57:13.481916",
     "status": "completed"
    },
    "tags": []
   },
   "outputs": [],
   "source": [
    "df['sentiment'] = df['sentiment'].map({'positive': 1, 'negative': 0})"
   ]
  },
  {
   "cell_type": "code",
   "execution_count": 9,
   "id": "ea9e07fc",
   "metadata": {
    "execution": {
     "iopub.execute_input": "2022-11-30T04:57:13.528248Z",
     "iopub.status.busy": "2022-11-30T04:57:13.527818Z",
     "iopub.status.idle": "2022-11-30T04:57:13.534878Z",
     "shell.execute_reply": "2022-11-30T04:57:13.533758Z"
    },
    "papermill": {
     "duration": 0.020331,
     "end_time": "2022-11-30T04:57:13.537294",
     "exception": false,
     "start_time": "2022-11-30T04:57:13.516963",
     "status": "completed"
    },
    "tags": []
   },
   "outputs": [
    {
     "name": "stdout",
     "output_type": "stream",
     "text": [
      "Review --> One of the other reviewers has mentioned that after watching just 1 Oz episode you'll be hooked. They are right, as this is exactly what happened with me.<br /><br />The first thing that struck me about Oz was its brutality and unflinching scenes of violence, which set in right from the word GO. Trust me, this is not a show for the faint hearted or timid. This show pulls no punches with regards to drugs, sex or violence. Its is hardcore, in the classic use of the word.<br /><br />It is called OZ as that is the nickname given to the Oswald Maximum Security State Penitentary. It focuses mainly on Emerald City, an experimental section of the prison where all the cells have glass fronts and face inwards, so privacy is not high on the agenda. Em City is home to many..Aryans, Muslims, gangstas, Latinos, Christians, Italians, Irish and more....so scuffles, death stares, dodgy dealings and shady agreements are never far away.<br /><br />I would say the main appeal of the show is due to the fact that it goes where other shows wouldn't dare. Forget pretty pictures painted for mainstream audiences, forget charm, forget romance...OZ doesn't mess around. The first episode I ever saw struck me as so nasty it was surreal, I couldn't say I was ready for it, but as I watched more, I developed a taste for Oz, and got accustomed to the high levels of graphic violence. Not just violence, but injustice (crooked guards who'll be sold out for a nickel, inmates who'll kill on order and get away with it, well mannered, middle class inmates being turned into prison bitches due to their lack of street skills or prison experience) Watching Oz, you may become comfortable with what is uncomfortable viewing....thats if you can get in touch with your darker side.\n",
      "Sentiment --> 1 \n",
      "\n",
      "Review --> A wonderful little production. <br /><br />The filming technique is very unassuming- very old-time-BBC fashion and gives a comforting, and sometimes discomforting, sense of realism to the entire piece. <br /><br />The actors are extremely well chosen- Michael Sheen not only \"has got all the polari\" but he has all the voices down pat too! You can truly see the seamless editing guided by the references to Williams' diary entries, not only is it well worth the watching but it is a terrificly written and performed piece. A masterful production about one of the great master's of comedy and his life. <br /><br />The realism really comes home with the little things: the fantasy of the guard which, rather than use the traditional 'dream' techniques remains solid then disappears. It plays on our knowledge and our senses, particularly with the scenes concerning Orton and Halliwell and the sets (particularly of their flat with Halliwell's murals decorating every surface) are terribly well done.\n",
      "Sentiment --> 1 \n",
      "\n"
     ]
    }
   ],
   "source": [
    "for row in df.head(2).itertuples():\n",
    "    print(\"Review -->\", row.review)\n",
    "    print('Sentiment -->', row.sentiment, '\\n')"
   ]
  },
  {
   "cell_type": "markdown",
   "id": "a99a335c",
   "metadata": {
    "papermill": {
     "duration": 0.009343,
     "end_time": "2022-11-30T04:57:13.556412",
     "exception": false,
     "start_time": "2022-11-30T04:57:13.547069",
     "status": "completed"
    },
    "tags": []
   },
   "source": [
    "# Train Test Split"
   ]
  },
  {
   "cell_type": "code",
   "execution_count": 10,
   "id": "b8519086",
   "metadata": {
    "execution": {
     "iopub.execute_input": "2022-11-30T04:57:13.576990Z",
     "iopub.status.busy": "2022-11-30T04:57:13.576538Z",
     "iopub.status.idle": "2022-11-30T04:57:13.630765Z",
     "shell.execute_reply": "2022-11-30T04:57:13.629542Z"
    },
    "papermill": {
     "duration": 0.067523,
     "end_time": "2022-11-30T04:57:13.633386",
     "exception": false,
     "start_time": "2022-11-30T04:57:13.565863",
     "status": "completed"
    },
    "tags": []
   },
   "outputs": [
    {
     "data": {
      "text/plain": [
       "((32000, 2), (8000, 2), (10000, 2))"
      ]
     },
     "execution_count": 10,
     "metadata": {},
     "output_type": "execute_result"
    }
   ],
   "source": [
    "train, test = train_test_split(df, test_size=0.2, stratify=df['sentiment'])\n",
    "train, validation = train_test_split(train, test_size=0.2, stratify=train['sentiment'])\n",
    "\n",
    "train.shape, validation.shape, test.shape"
   ]
  },
  {
   "cell_type": "code",
   "execution_count": 11,
   "id": "dc5c06af",
   "metadata": {
    "execution": {
     "iopub.execute_input": "2022-11-30T04:57:13.654765Z",
     "iopub.status.busy": "2022-11-30T04:57:13.654367Z",
     "iopub.status.idle": "2022-11-30T04:57:13.771918Z",
     "shell.execute_reply": "2022-11-30T04:57:13.770994Z"
    },
    "papermill": {
     "duration": 0.131328,
     "end_time": "2022-11-30T04:57:13.774818",
     "exception": false,
     "start_time": "2022-11-30T04:57:13.643490",
     "status": "completed"
    },
    "tags": []
   },
   "outputs": [],
   "source": [
    "training_dataset = tf.data.Dataset.from_tensor_slices(\n",
    "    (train['review'].values, train['sentiment'].values)).batch(batch_size=32)\n",
    "\n",
    "validation_dataset = tf.data.Dataset.from_tensor_slices(\n",
    "    (validation['review'].values, validation['sentiment'].values)).batch(batch_size=32)"
   ]
  },
  {
   "cell_type": "markdown",
   "id": "2c487558",
   "metadata": {
    "papermill": {
     "duration": 0.009238,
     "end_time": "2022-11-30T04:57:13.793761",
     "exception": false,
     "start_time": "2022-11-30T04:57:13.784523",
     "status": "completed"
    },
    "tags": []
   },
   "source": [
    "## Bag of Words (Count Vectorizer)"
   ]
  },
  {
   "cell_type": "code",
   "execution_count": 12,
   "id": "3045aa3d",
   "metadata": {
    "execution": {
     "iopub.execute_input": "2022-11-30T04:57:13.815752Z",
     "iopub.status.busy": "2022-11-30T04:57:13.815325Z",
     "iopub.status.idle": "2022-11-30T04:57:17.545767Z",
     "shell.execute_reply": "2022-11-30T04:57:17.544562Z"
    },
    "papermill": {
     "duration": 3.744287,
     "end_time": "2022-11-30T04:57:17.548780",
     "exception": false,
     "start_time": "2022-11-30T04:57:13.804493",
     "status": "completed"
    },
    "tags": []
   },
   "outputs": [
    {
     "name": "stderr",
     "output_type": "stream",
     "text": [
      "2022-11-30 04:57:13.980653: I tensorflow/compiler/mlir/mlir_graph_optimization_pass.cc:185] None of the MLIR Optimization Passes are enabled (registered 2)\n"
     ]
    }
   ],
   "source": [
    "vocab_size = 10000   \n",
    "\n",
    "count_vectorizer = layers.TextVectorization(\n",
    "    max_tokens=vocab_size,\n",
    "    output_mode='count',\n",
    ")\n",
    "\n",
    "count_vectorizer.adapt(train['review'].values)"
   ]
  },
  {
   "cell_type": "code",
   "execution_count": 13,
   "id": "5441592c",
   "metadata": {
    "execution": {
     "iopub.execute_input": "2022-11-30T04:57:17.569754Z",
     "iopub.status.busy": "2022-11-30T04:57:17.569334Z",
     "iopub.status.idle": "2022-11-30T04:57:17.596466Z",
     "shell.execute_reply": "2022-11-30T04:57:17.595572Z"
    },
    "papermill": {
     "duration": 0.040183,
     "end_time": "2022-11-30T04:57:17.598675",
     "exception": false,
     "start_time": "2022-11-30T04:57:17.558492",
     "status": "completed"
    },
    "tags": []
   },
   "outputs": [
    {
     "data": {
      "text/plain": [
       "['[UNK]', 'the', 'and', 'a', 'of', 'to', 'is', 'in', 'i', 'it']"
      ]
     },
     "execution_count": 13,
     "metadata": {},
     "output_type": "execute_result"
    }
   ],
   "source": [
    "count_vectorizer.get_vocabulary()[:10]"
   ]
  },
  {
   "cell_type": "code",
   "execution_count": 14,
   "id": "50b84d8d",
   "metadata": {
    "execution": {
     "iopub.execute_input": "2022-11-30T04:57:17.620342Z",
     "iopub.status.busy": "2022-11-30T04:57:17.619667Z",
     "iopub.status.idle": "2022-11-30T04:57:17.694566Z",
     "shell.execute_reply": "2022-11-30T04:57:17.693525Z"
    },
    "papermill": {
     "duration": 0.088771,
     "end_time": "2022-11-30T04:57:17.697221",
     "exception": false,
     "start_time": "2022-11-30T04:57:17.608450",
     "status": "completed"
    },
    "tags": []
   },
   "outputs": [
    {
     "data": {
      "text/plain": [
       "array([[0., 1., 0., ..., 0., 0., 0.]], dtype=float32)"
      ]
     },
     "execution_count": 14,
     "metadata": {},
     "output_type": "execute_result"
    }
   ],
   "source": [
    "count_vectorizer(['It was the best movie I watched in recent times']).numpy()"
   ]
  },
  {
   "cell_type": "markdown",
   "id": "26d36b65",
   "metadata": {
    "papermill": {
     "duration": 0.009883,
     "end_time": "2022-11-30T04:57:17.716820",
     "exception": false,
     "start_time": "2022-11-30T04:57:17.706937",
     "status": "completed"
    },
    "tags": []
   },
   "source": [
    "## TF-IDF Vectorizer"
   ]
  },
  {
   "cell_type": "code",
   "execution_count": 15,
   "id": "f5e58c26",
   "metadata": {
    "execution": {
     "iopub.execute_input": "2022-11-30T04:57:17.739768Z",
     "iopub.status.busy": "2022-11-30T04:57:17.739009Z",
     "iopub.status.idle": "2022-11-30T04:58:39.947055Z",
     "shell.execute_reply": "2022-11-30T04:58:39.945891Z"
    },
    "papermill": {
     "duration": 82.222739,
     "end_time": "2022-11-30T04:58:39.949925",
     "exception": false,
     "start_time": "2022-11-30T04:57:17.727186",
     "status": "completed"
    },
    "tags": []
   },
   "outputs": [],
   "source": [
    "vocab_size = 10000       \n",
    "\n",
    "tfidf_vectorizer = layers.TextVectorization(\n",
    "    max_tokens=vocab_size,\n",
    "    output_mode='tf_idf',\n",
    "    ngrams=(2,3)\n",
    ")\n",
    "\n",
    "tfidf_vectorizer.adapt(train['review'].values)"
   ]
  },
  {
   "cell_type": "code",
   "execution_count": 16,
   "id": "fa9d1306",
   "metadata": {
    "execution": {
     "iopub.execute_input": "2022-11-30T04:58:39.971685Z",
     "iopub.status.busy": "2022-11-30T04:58:39.971224Z",
     "iopub.status.idle": "2022-11-30T04:58:42.439482Z",
     "shell.execute_reply": "2022-11-30T04:58:42.438378Z"
    },
    "papermill": {
     "duration": 2.482053,
     "end_time": "2022-11-30T04:58:42.442055",
     "exception": false,
     "start_time": "2022-11-30T04:58:39.960002",
     "status": "completed"
    },
    "tags": []
   },
   "outputs": [
    {
     "data": {
      "text/plain": [
       "['[UNK]',\n",
       " 'of the',\n",
       " 'in the',\n",
       " 'this movie',\n",
       " 'and the',\n",
       " 'is a',\n",
       " 'the film',\n",
       " 'to the',\n",
       " 'to be',\n",
       " 'the movie']"
      ]
     },
     "execution_count": 16,
     "metadata": {},
     "output_type": "execute_result"
    }
   ],
   "source": [
    "tfidf_vectorizer.get_vocabulary()[:10]"
   ]
  },
  {
   "cell_type": "code",
   "execution_count": 17,
   "id": "b2402a4b",
   "metadata": {
    "execution": {
     "iopub.execute_input": "2022-11-30T04:58:42.464718Z",
     "iopub.status.busy": "2022-11-30T04:58:42.464289Z",
     "iopub.status.idle": "2022-11-30T04:58:42.478560Z",
     "shell.execute_reply": "2022-11-30T04:58:42.477402Z"
    },
    "papermill": {
     "duration": 0.028417,
     "end_time": "2022-11-30T04:58:42.480963",
     "exception": false,
     "start_time": "2022-11-30T04:58:42.452546",
     "status": "completed"
    },
    "tags": []
   },
   "outputs": [
    {
     "data": {
      "text/plain": [
       "array([[35.378265,  0.      ,  0.      , ...,  0.      ,  0.      ,\n",
       "         0.      ]], dtype=float32)"
      ]
     },
     "execution_count": 17,
     "metadata": {},
     "output_type": "execute_result"
    }
   ],
   "source": [
    "tfidf_vectorizer(['It was the best movie I watched in recent times']).numpy()"
   ]
  },
  {
   "cell_type": "markdown",
   "id": "4c987d9c",
   "metadata": {
    "papermill": {
     "duration": 0.009721,
     "end_time": "2022-11-30T04:58:42.500777",
     "exception": false,
     "start_time": "2022-11-30T04:58:42.491056",
     "status": "completed"
    },
    "tags": []
   },
   "source": [
    "# Model"
   ]
  },
  {
   "cell_type": "markdown",
   "id": "32b01f17",
   "metadata": {
    "papermill": {
     "duration": 0.009581,
     "end_time": "2022-11-30T04:58:42.520217",
     "exception": false,
     "start_time": "2022-11-30T04:58:42.510636",
     "status": "completed"
    },
    "tags": []
   },
   "source": [
    "## Count Vectorizer model"
   ]
  },
  {
   "cell_type": "code",
   "execution_count": 18,
   "id": "8a25ade7",
   "metadata": {
    "execution": {
     "iopub.execute_input": "2022-11-30T04:58:42.542029Z",
     "iopub.status.busy": "2022-11-30T04:58:42.541628Z",
     "iopub.status.idle": "2022-11-30T04:59:56.340211Z",
     "shell.execute_reply": "2022-11-30T04:59:56.338604Z"
    },
    "papermill": {
     "duration": 73.812825,
     "end_time": "2022-11-30T04:59:56.342901",
     "exception": false,
     "start_time": "2022-11-30T04:58:42.530076",
     "status": "completed"
    },
    "tags": []
   },
   "outputs": [
    {
     "name": "stdout",
     "output_type": "stream",
     "text": [
      "Epoch 1/5\n",
      "1000/1000 [==============================] - 12s 11ms/step - loss: 0.4455 - accuracy: 0.8531 - val_loss: 0.3793 - val_accuracy: 0.8871\n",
      "Epoch 2/5\n",
      "1000/1000 [==============================] - 11s 11ms/step - loss: 0.3724 - accuracy: 0.8935 - val_loss: 0.3917 - val_accuracy: 0.8889\n",
      "Epoch 3/5\n",
      "1000/1000 [==============================] - 12s 11ms/step - loss: 0.3486 - accuracy: 0.9082 - val_loss: 0.4174 - val_accuracy: 0.8834\n",
      "Epoch 4/5\n",
      "1000/1000 [==============================] - 11s 11ms/step - loss: 0.3359 - accuracy: 0.9201 - val_loss: 0.4586 - val_accuracy: 0.8771\n",
      "Epoch 5/5\n",
      "1000/1000 [==============================] - 9s 9ms/step - loss: 0.3234 - accuracy: 0.9267 - val_loss: 0.4587 - val_accuracy: 0.8796\n"
     ]
    }
   ],
   "source": [
    "model1 = Sequential([\n",
    "    count_vectorizer,\n",
    "    layers.Dense(64, activation='relu', kernel_regularizer=L2(1e-3)),\n",
    "    layers.Dropout(0.1),\n",
    "    layers.Dense(64, activation='relu', kernel_regularizer=L2(1e-3)),\n",
    "    layers.Dropout(0.1),\n",
    "    layers.Dense(1, activation='sigmoid')\n",
    "])\n",
    "\n",
    "model1.compile(\n",
    "    loss=tf.keras.losses.binary_crossentropy,\n",
    "    optimizer=tf.keras.optimizers.Adam(),\n",
    "    metrics=['accuracy']\n",
    ")\n",
    "\n",
    "history = model1.fit(\n",
    "    training_dataset,\n",
    "    steps_per_epoch=len(training_dataset),\n",
    "    epochs=5,\n",
    "    validation_data=validation_dataset,\n",
    "    validation_steps=len(validation_dataset)\n",
    ")"
   ]
  },
  {
   "cell_type": "code",
   "execution_count": 19,
   "id": "69199863",
   "metadata": {
    "execution": {
     "iopub.execute_input": "2022-11-30T04:59:56.466142Z",
     "iopub.status.busy": "2022-11-30T04:59:56.465742Z",
     "iopub.status.idle": "2022-11-30T04:59:56.949928Z",
     "shell.execute_reply": "2022-11-30T04:59:56.948873Z"
    },
    "papermill": {
     "duration": 0.547973,
     "end_time": "2022-11-30T04:59:56.952064",
     "exception": false,
     "start_time": "2022-11-30T04:59:56.404091",
     "status": "completed"
    },
    "tags": []
   },
   "outputs": [
    {
     "data": {
      "image/png": "[encoded data removed]",
      "text/plain": [
       "<Figure size 1080x504 with 2 Axes>"
      ]
     },
     "metadata": {
      "needs_background": "light"
     },
     "output_type": "display_data"
    },
    {
     "data": {
      "text/plain": [
       "<Figure size 720x432 with 0 Axes>"
      ]
     },
     "metadata": {},
     "output_type": "display_data"
    }
   ],
   "source": [
    "acc = history.history['accuracy']\n",
    "val_acc = history.history['val_accuracy']\n",
    "\n",
    "loss = history.history['loss']\n",
    "val_loss = history.history['val_loss']\n",
    "\n",
    "epochs_range = range(5)\n",
    "\n",
    "plt.figure(figsize=(15, 7))\n",
    "plt.subplot(1, 2, 1)\n",
    "plt.plot(epochs_range, loss, label='Training Loss')\n",
    "plt.plot(epochs_range, val_loss, label='Validation Loss')\n",
    "plt.legend(loc='upper right')\n",
    "plt.title('Training and Validation Loss')\n",
    "\n",
    "plt.subplot(1, 2, 2)\n",
    "plt.plot(epochs_range, acc, label='Training Accuracy')\n",
    "plt.plot(epochs_range, val_acc, label='Validation Accuracy')\n",
    "plt.legend(loc='lower right')\n",
    "plt.title('Training and Validation Accuracy')\n",
    "plt.figure(figsize=(10, 6));"
   ]
  },
  {
   "cell_type": "code",
   "execution_count": 20,
   "id": "61dcbb3a",
   "metadata": {
    "execution": {
     "iopub.execute_input": "2022-11-30T04:59:57.079464Z",
     "iopub.status.busy": "2022-11-30T04:59:57.078992Z",
     "iopub.status.idle": "2022-11-30T04:59:58.230801Z",
     "shell.execute_reply": "2022-11-30T04:59:58.229632Z"
    },
    "papermill": {
     "duration": 1.219458,
     "end_time": "2022-11-30T04:59:58.233272",
     "exception": false,
     "start_time": "2022-11-30T04:59:57.013814",
     "status": "completed"
    },
    "tags": []
   },
   "outputs": [
    {
     "name": "stdout",
     "output_type": "stream",
     "text": [
      "250/250 [==============================] - 1s 5ms/step - loss: 0.4587 - accuracy: 0.8796\n"
     ]
    },
    {
     "data": {
      "text/plain": [
       "[0.45866891741752625, 0.8796250224113464]"
      ]
     },
     "execution_count": 20,
     "metadata": {},
     "output_type": "execute_result"
    }
   ],
   "source": [
    "model1.evaluate(validation_dataset, batch_size=32, verbose=1)"
   ]
  },
  {
   "cell_type": "markdown",
   "id": "4d5b3c48",
   "metadata": {
    "papermill": {
     "duration": 0.063952,
     "end_time": "2022-11-30T04:59:58.362492",
     "exception": false,
     "start_time": "2022-11-30T04:59:58.298540",
     "status": "completed"
    },
    "tags": []
   },
   "source": [
    "## TF-IDF Model"
   ]
  },
  {
   "cell_type": "code",
   "execution_count": 21,
   "id": "3e936b36",
   "metadata": {
    "execution": {
     "iopub.execute_input": "2022-11-30T04:59:58.494242Z",
     "iopub.status.busy": "2022-11-30T04:59:58.493532Z",
     "iopub.status.idle": "2022-11-30T05:01:02.281354Z",
     "shell.execute_reply": "2022-11-30T05:01:02.278508Z"
    },
    "papermill": {
     "duration": 63.85598,
     "end_time": "2022-11-30T05:01:02.284312",
     "exception": false,
     "start_time": "2022-11-30T04:59:58.428332",
     "status": "completed"
    },
    "tags": []
   },
   "outputs": [
    {
     "name": "stdout",
     "output_type": "stream",
     "text": [
      "Epoch 1/5\n",
      "1000/1000 [==============================] - 14s 13ms/step - loss: 0.6895 - accuracy: 0.7895 - val_loss: 0.4749 - val_accuracy: 0.8547\n",
      "Epoch 2/5\n",
      "1000/1000 [==============================] - 13s 13ms/step - loss: 0.4703 - accuracy: 0.8545 - val_loss: 0.4931 - val_accuracy: 0.8419\n",
      "Epoch 3/5\n",
      "1000/1000 [==============================] - 12s 12ms/step - loss: 0.4464 - accuracy: 0.8577 - val_loss: 0.5002 - val_accuracy: 0.8394\n",
      "Epoch 4/5\n",
      "1000/1000 [==============================] - 13s 13ms/step - loss: 0.4117 - accuracy: 0.8691 - val_loss: 0.4545 - val_accuracy: 0.8541\n",
      "Epoch 5/5\n",
      "1000/1000 [==============================] - 12s 12ms/step - loss: 0.3845 - accuracy: 0.8773 - val_loss: 0.4972 - val_accuracy: 0.8214\n"
     ]
    }
   ],
   "source": [
    "model2 = Sequential([\n",
    "    tfidf_vectorizer,\n",
    "    layers.Dense(64, activation='relu', kernel_regularizer=L2(1e-3)),\n",
    "    layers.Dropout(0.1),\n",
    "    layers.Dense(64, activation='relu', kernel_regularizer=L2(1e-3)),\n",
    "    layers.Dropout(0.1),\n",
    "    layers.Dense(1, activation='sigmoid')\n",
    "])\n",
    "\n",
    "model2.compile(\n",
    "    loss=tf.keras.losses.binary_crossentropy,\n",
    "    optimizer=tf.keras.optimizers.Adam(),\n",
    "    metrics=['accuracy']\n",
    ")\n",
    "\n",
    "history = model2.fit(\n",
    "    training_dataset,\n",
    "    steps_per_epoch=len(training_dataset),\n",
    "    epochs=5,\n",
    "    validation_data=validation_dataset,\n",
    "    validation_steps=len(validation_dataset)\n",
    ")"
   ]
  },
  {
   "cell_type": "code",
   "execution_count": 22,
   "id": "c98af641",
   "metadata": {
    "execution": {
     "iopub.execute_input": "2022-11-30T05:01:02.534111Z",
     "iopub.status.busy": "2022-11-30T05:01:02.533108Z",
     "iopub.status.idle": "2022-11-30T05:01:02.947073Z",
     "shell.execute_reply": "2022-11-30T05:01:02.946329Z"
    },
    "papermill": {
     "duration": 0.541052,
     "end_time": "2022-11-30T05:01:02.949028",
     "exception": false,
     "start_time": "2022-11-30T05:01:02.407976",
     "status": "completed"
    },
    "tags": []
   },
   "outputs": [
    {
     "data": {
      "image/png": "[encoded data removed]",
      "text/plain": [
       "<Figure size 1080x504 with 2 Axes>"
      ]
     },
     "metadata": {
      "needs_background": "light"
     },
     "output_type": "display_data"
    },
    {
     "data": {
      "text/plain": [
       "<Figure size 720x432 with 0 Axes>"
      ]
     },
     "metadata": {},
     "output_type": "display_data"
    }
   ],
   "source": [
    "acc = history.history['accuracy']\n",
    "val_acc = history.history['val_accuracy']\n",
    "\n",
    "loss = history.history['loss']\n",
    "val_loss = history.history['val_loss']\n",
    "\n",
    "epochs_range = range(5)\n",
    "\n",
    "plt.figure(figsize=(15, 7))\n",
    "plt.subplot(1, 2, 1)\n",
    "plt.plot(epochs_range, loss, label='Training Loss')\n",
    "plt.plot(epochs_range, val_loss, label='Validation Loss')\n",
    "plt.legend(loc='upper right')\n",
    "plt.title('Training and Validation Loss')\n",
    "\n",
    "plt.subplot(1, 2, 2)\n",
    "plt.plot(epochs_range, acc, label='Training Accuracy')\n",
    "plt.plot(epochs_range, val_acc, label='Validation Accuracy')\n",
    "plt.legend(loc='lower right')\n",
    "plt.title('Training and Validation Accuracy')\n",
    "plt.figure(figsize=(10, 6));"
   ]
  },
  {
   "cell_type": "code",
   "execution_count": 23,
   "id": "ed3c2cfd",
   "metadata": {
    "execution": {
     "iopub.execute_input": "2022-11-30T05:01:03.199754Z",
     "iopub.status.busy": "2022-11-30T05:01:03.199367Z",
     "iopub.status.idle": "2022-11-30T05:01:04.920801Z",
     "shell.execute_reply": "2022-11-30T05:01:04.919680Z"
    },
    "papermill": {
     "duration": 1.849589,
     "end_time": "2022-11-30T05:01:04.922956",
     "exception": false,
     "start_time": "2022-11-30T05:01:03.073367",
     "status": "completed"
    },
    "tags": []
   },
   "outputs": [
    {
     "name": "stdout",
     "output_type": "stream",
     "text": [
      "250/250 [==============================] - 2s 7ms/step - loss: 0.4972 - accuracy: 0.8214\n"
     ]
    },
    {
     "data": {
      "text/plain": [
       "[0.4972485899925232, 0.8213750123977661]"
      ]
     },
     "execution_count": 23,
     "metadata": {},
     "output_type": "execute_result"
    }
   ],
   "source": [
    "model2.evaluate(validation_dataset, batch_size=32, verbose=1)"
   ]
  },
  {
   "cell_type": "markdown",
   "id": "95465dcf",
   "metadata": {
    "papermill": {
     "duration": 0.124969,
     "end_time": "2022-11-30T05:01:05.250698",
     "exception": false,
     "start_time": "2022-11-30T05:01:05.125729",
     "status": "completed"
    },
    "tags": []
   },
   "source": [
    "# Predict on test set"
   ]
  },
  {
   "cell_type": "code",
   "execution_count": 24,
   "id": "6054091b",
   "metadata": {
    "execution": {
     "iopub.execute_input": "2022-11-30T05:01:05.503505Z",
     "iopub.status.busy": "2022-11-30T05:01:05.502185Z",
     "iopub.status.idle": "2022-11-30T05:01:06.848235Z",
     "shell.execute_reply": "2022-11-30T05:01:06.847330Z"
    },
    "papermill": {
     "duration": 1.476515,
     "end_time": "2022-11-30T05:01:06.850784",
     "exception": false,
     "start_time": "2022-11-30T05:01:05.374269",
     "status": "completed"
    },
    "tags": []
   },
   "outputs": [
    {
     "data": {
      "text/plain": [
       "0.8729"
      ]
     },
     "execution_count": 24,
     "metadata": {},
     "output_type": "execute_result"
    }
   ],
   "source": [
    "predictions = model1.predict(test['review']).round()\n",
    "accuracy_score(test['sentiment'].values, predictions)"
   ]
  }
 ],
 "metadata": {
  "kernelspec": {
   "display_name": "Python 3",
   "language": "python",
   "name": "python3"
  },
  "language_info": {
   "codemirror_mode": {
    "name": "ipython",
    "version": 3
   },
   "file_extension": ".py",
   "mimetype": "text/x-python",
   "name": "python",
   "nbconvert_exporter": "python",
   "pygments_lexer": "ipython3",
   "version": "3.7.12"
  },
  "papermill": {
   "default_parameters": {},
   "duration": 272.346028,
   "end_time": "2022-11-30T05:01:10.348642",
   "environment_variables": {},
   "exception": null,
   "input_path": "__notebook__.ipynb",
   "output_path": "__notebook__.ipynb",
   "parameters": {},
   "start_time": "2022-11-30T04:56:38.002614",
   "version": "2.3.4"
  }
 },
 "nbformat": 4,
 "nbformat_minor": 5
}
