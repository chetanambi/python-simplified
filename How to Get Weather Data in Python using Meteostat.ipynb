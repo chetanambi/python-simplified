{
 "cells": [
  {
   "cell_type": "markdown",
   "id": "58898fa6",
   "metadata": {},
   "source": [
    "# How to Get Weather Data in Python using Meteostat\n",
    "## Get weather data such as temperature, pressure, precipitation, wind direction, etc. for your next Python project."
   ]
  },
  {
   "cell_type": "code",
   "execution_count": 1,
   "id": "b57a3147",
   "metadata": {},
   "outputs": [],
   "source": [
    "from datetime import datetime\n",
    "from meteostat import Point\n",
    "from meteostat import Hourly \n",
    "from meteostat import Daily\n",
    "from meteostat import Monthly\n",
    "import pandas as pd\n",
    "\n",
    "from prophet import Prophet\n",
    "import matplotlib.pyplot as plt\n",
    "import warnings\n",
    "warnings.filterwarnings('ignore')\n",
    "from sklearn.metrics import mean_absolute_error"
   ]
  },
  {
   "cell_type": "code",
   "execution_count": 2,
   "id": "362bcc30",
   "metadata": {},
   "outputs": [],
   "source": [
    "# Set time period\n",
    "start = datetime(2021, 1, 1)\n",
    "end = datetime(2022, 9, 30)"
   ]
  },
  {
   "cell_type": "code",
   "execution_count": 3,
   "id": "6c447856",
   "metadata": {},
   "outputs": [],
   "source": [
    "# Create Point for Bangalore, KARNATAKA\n",
    "place = Point(12.971599, 77.594566)"
   ]
  },
  {
   "cell_type": "code",
   "execution_count": 8,
   "id": "092d74ff",
   "metadata": {},
   "outputs": [],
   "source": [
    "# Get hourly data\n",
    "data = Hourly(place, start, end)\n",
    "data = data.fetch()"
   ]
  },
  {
   "cell_type": "code",
   "execution_count": 9,
   "id": "ab9baed3",
   "metadata": {},
   "outputs": [
    {
     "data": {
      "text/html": [
       "<div>\n",
       "<style scoped>\n",
       "    .dataframe tbody tr th:only-of-type {\n",
       "        vertical-align: middle;\n",
       "    }\n",
       "\n",
       "    .dataframe tbody tr th {\n",
       "        vertical-align: top;\n",
       "    }\n",
       "\n",
       "    .dataframe thead th {\n",
       "        text-align: right;\n",
       "    }\n",
       "</style>\n",
       "<table border=\"1\" class=\"dataframe\">\n",
       "  <thead>\n",
       "    <tr style=\"text-align: right;\">\n",
       "      <th></th>\n",
       "      <th>temp</th>\n",
       "      <th>dwpt</th>\n",
       "      <th>rhum</th>\n",
       "      <th>prcp</th>\n",
       "      <th>snow</th>\n",
       "      <th>wdir</th>\n",
       "      <th>wspd</th>\n",
       "      <th>wpgt</th>\n",
       "      <th>pres</th>\n",
       "      <th>tsun</th>\n",
       "      <th>coco</th>\n",
       "    </tr>\n",
       "    <tr>\n",
       "      <th>time</th>\n",
       "      <th></th>\n",
       "      <th></th>\n",
       "      <th></th>\n",
       "      <th></th>\n",
       "      <th></th>\n",
       "      <th></th>\n",
       "      <th></th>\n",
       "      <th></th>\n",
       "      <th></th>\n",
       "      <th></th>\n",
       "      <th></th>\n",
       "    </tr>\n",
       "  </thead>\n",
       "  <tbody>\n",
       "    <tr>\n",
       "      <th>2021-01-01 00:00:00</th>\n",
       "      <td>17.6</td>\n",
       "      <td>15.9</td>\n",
       "      <td>90.0</td>\n",
       "      <td>NaN</td>\n",
       "      <td>NaN</td>\n",
       "      <td>50.0</td>\n",
       "      <td>3.6</td>\n",
       "      <td>NaN</td>\n",
       "      <td>1015.0</td>\n",
       "      <td>NaN</td>\n",
       "      <td>5.0</td>\n",
       "    </tr>\n",
       "    <tr>\n",
       "      <th>2021-01-01 01:00:00</th>\n",
       "      <td>18.0</td>\n",
       "      <td>18.0</td>\n",
       "      <td>100.0</td>\n",
       "      <td>NaN</td>\n",
       "      <td>NaN</td>\n",
       "      <td>90.0</td>\n",
       "      <td>7.6</td>\n",
       "      <td>NaN</td>\n",
       "      <td>1016.0</td>\n",
       "      <td>NaN</td>\n",
       "      <td>5.0</td>\n",
       "    </tr>\n",
       "    <tr>\n",
       "      <th>2021-01-01 02:00:00</th>\n",
       "      <td>18.0</td>\n",
       "      <td>18.0</td>\n",
       "      <td>100.0</td>\n",
       "      <td>NaN</td>\n",
       "      <td>NaN</td>\n",
       "      <td>90.0</td>\n",
       "      <td>7.6</td>\n",
       "      <td>NaN</td>\n",
       "      <td>1017.0</td>\n",
       "      <td>NaN</td>\n",
       "      <td>5.0</td>\n",
       "    </tr>\n",
       "    <tr>\n",
       "      <th>2021-01-01 03:00:00</th>\n",
       "      <td>18.8</td>\n",
       "      <td>15.3</td>\n",
       "      <td>80.0</td>\n",
       "      <td>NaN</td>\n",
       "      <td>NaN</td>\n",
       "      <td>50.0</td>\n",
       "      <td>5.4</td>\n",
       "      <td>NaN</td>\n",
       "      <td>1018.0</td>\n",
       "      <td>NaN</td>\n",
       "      <td>5.0</td>\n",
       "    </tr>\n",
       "    <tr>\n",
       "      <th>2021-01-01 04:00:00</th>\n",
       "      <td>21.0</td>\n",
       "      <td>16.0</td>\n",
       "      <td>73.0</td>\n",
       "      <td>NaN</td>\n",
       "      <td>NaN</td>\n",
       "      <td>90.0</td>\n",
       "      <td>14.8</td>\n",
       "      <td>NaN</td>\n",
       "      <td>1018.0</td>\n",
       "      <td>NaN</td>\n",
       "      <td>5.0</td>\n",
       "    </tr>\n",
       "  </tbody>\n",
       "</table>\n",
       "</div>"
      ],
      "text/plain": [
       "                     temp  dwpt   rhum  prcp  snow  wdir  wspd  wpgt    pres  \\\n",
       "time                                                                           \n",
       "2021-01-01 00:00:00  17.6  15.9   90.0   NaN   NaN  50.0   3.6   NaN  1015.0   \n",
       "2021-01-01 01:00:00  18.0  18.0  100.0   NaN   NaN  90.0   7.6   NaN  1016.0   \n",
       "2021-01-01 02:00:00  18.0  18.0  100.0   NaN   NaN  90.0   7.6   NaN  1017.0   \n",
       "2021-01-01 03:00:00  18.8  15.3   80.0   NaN   NaN  50.0   5.4   NaN  1018.0   \n",
       "2021-01-01 04:00:00  21.0  16.0   73.0   NaN   NaN  90.0  14.8   NaN  1018.0   \n",
       "\n",
       "                     tsun  coco  \n",
       "time                             \n",
       "2021-01-01 00:00:00   NaN   5.0  \n",
       "2021-01-01 01:00:00   NaN   5.0  \n",
       "2021-01-01 02:00:00   NaN   5.0  \n",
       "2021-01-01 03:00:00   NaN   5.0  \n",
       "2021-01-01 04:00:00   NaN   5.0  "
      ]
     },
     "execution_count": 9,
     "metadata": {},
     "output_type": "execute_result"
    }
   ],
   "source": [
    "data.head()"
   ]
  },
  {
   "cell_type": "code",
   "execution_count": 10,
   "id": "a920ba58",
   "metadata": {},
   "outputs": [],
   "source": [
    "# Get daily data\n",
    "data = Daily(place, start, end)\n",
    "data = data.fetch()"
   ]
  },
  {
   "cell_type": "code",
   "execution_count": 11,
   "id": "fcda8b92",
   "metadata": {},
   "outputs": [
    {
     "data": {
      "text/html": [
       "<div>\n",
       "<style scoped>\n",
       "    .dataframe tbody tr th:only-of-type {\n",
       "        vertical-align: middle;\n",
       "    }\n",
       "\n",
       "    .dataframe tbody tr th {\n",
       "        vertical-align: top;\n",
       "    }\n",
       "\n",
       "    .dataframe thead th {\n",
       "        text-align: right;\n",
       "    }\n",
       "</style>\n",
       "<table border=\"1\" class=\"dataframe\">\n",
       "  <thead>\n",
       "    <tr style=\"text-align: right;\">\n",
       "      <th></th>\n",
       "      <th>tavg</th>\n",
       "      <th>tmin</th>\n",
       "      <th>tmax</th>\n",
       "      <th>prcp</th>\n",
       "      <th>snow</th>\n",
       "      <th>wdir</th>\n",
       "      <th>wspd</th>\n",
       "      <th>wpgt</th>\n",
       "      <th>pres</th>\n",
       "      <th>tsun</th>\n",
       "    </tr>\n",
       "    <tr>\n",
       "      <th>time</th>\n",
       "      <th></th>\n",
       "      <th></th>\n",
       "      <th></th>\n",
       "      <th></th>\n",
       "      <th></th>\n",
       "      <th></th>\n",
       "      <th></th>\n",
       "      <th></th>\n",
       "      <th></th>\n",
       "      <th></th>\n",
       "    </tr>\n",
       "  </thead>\n",
       "  <tbody>\n",
       "    <tr>\n",
       "      <th>2021-01-01</th>\n",
       "      <td>20.6</td>\n",
       "      <td>16.6</td>\n",
       "      <td>25.3</td>\n",
       "      <td>0.5</td>\n",
       "      <td>NaN</td>\n",
       "      <td>93.0</td>\n",
       "      <td>10.4</td>\n",
       "      <td>NaN</td>\n",
       "      <td>1015.6</td>\n",
       "      <td>NaN</td>\n",
       "    </tr>\n",
       "    <tr>\n",
       "      <th>2021-01-02</th>\n",
       "      <td>20.9</td>\n",
       "      <td>16.6</td>\n",
       "      <td>26.0</td>\n",
       "      <td>0.4</td>\n",
       "      <td>NaN</td>\n",
       "      <td>74.0</td>\n",
       "      <td>11.3</td>\n",
       "      <td>NaN</td>\n",
       "      <td>1014.5</td>\n",
       "      <td>NaN</td>\n",
       "    </tr>\n",
       "    <tr>\n",
       "      <th>2021-01-03</th>\n",
       "      <td>21.9</td>\n",
       "      <td>18.8</td>\n",
       "      <td>26.0</td>\n",
       "      <td>0.0</td>\n",
       "      <td>NaN</td>\n",
       "      <td>86.0</td>\n",
       "      <td>12.0</td>\n",
       "      <td>NaN</td>\n",
       "      <td>1013.0</td>\n",
       "      <td>NaN</td>\n",
       "    </tr>\n",
       "    <tr>\n",
       "      <th>2021-01-04</th>\n",
       "      <td>20.8</td>\n",
       "      <td>18.6</td>\n",
       "      <td>27.6</td>\n",
       "      <td>0.0</td>\n",
       "      <td>NaN</td>\n",
       "      <td>84.0</td>\n",
       "      <td>10.8</td>\n",
       "      <td>NaN</td>\n",
       "      <td>1013.1</td>\n",
       "      <td>NaN</td>\n",
       "    </tr>\n",
       "    <tr>\n",
       "      <th>2021-01-05</th>\n",
       "      <td>21.9</td>\n",
       "      <td>18.7</td>\n",
       "      <td>26.2</td>\n",
       "      <td>0.0</td>\n",
       "      <td>NaN</td>\n",
       "      <td>83.0</td>\n",
       "      <td>10.9</td>\n",
       "      <td>NaN</td>\n",
       "      <td>1013.9</td>\n",
       "      <td>NaN</td>\n",
       "    </tr>\n",
       "  </tbody>\n",
       "</table>\n",
       "</div>"
      ],
      "text/plain": [
       "            tavg  tmin  tmax  prcp  snow  wdir  wspd  wpgt    pres  tsun\n",
       "time                                                                    \n",
       "2021-01-01  20.6  16.6  25.3   0.5   NaN  93.0  10.4   NaN  1015.6   NaN\n",
       "2021-01-02  20.9  16.6  26.0   0.4   NaN  74.0  11.3   NaN  1014.5   NaN\n",
       "2021-01-03  21.9  18.8  26.0   0.0   NaN  86.0  12.0   NaN  1013.0   NaN\n",
       "2021-01-04  20.8  18.6  27.6   0.0   NaN  84.0  10.8   NaN  1013.1   NaN\n",
       "2021-01-05  21.9  18.7  26.2   0.0   NaN  83.0  10.9   NaN  1013.9   NaN"
      ]
     },
     "execution_count": 11,
     "metadata": {},
     "output_type": "execute_result"
    }
   ],
   "source": [
    "# Show dataframe\n",
    "data.head()"
   ]
  },
  {
   "cell_type": "code",
   "execution_count": 12,
   "id": "2aa55b63",
   "metadata": {},
   "outputs": [],
   "source": [
    "# Get Monthly data\n",
    "data = Monthly(place, start, end)\n",
    "data = data.fetch()"
   ]
  },
  {
   "cell_type": "code",
   "execution_count": 13,
   "id": "99c58bdd",
   "metadata": {},
   "outputs": [
    {
     "data": {
      "text/html": [
       "<div>\n",
       "<style scoped>\n",
       "    .dataframe tbody tr th:only-of-type {\n",
       "        vertical-align: middle;\n",
       "    }\n",
       "\n",
       "    .dataframe tbody tr th {\n",
       "        vertical-align: top;\n",
       "    }\n",
       "\n",
       "    .dataframe thead th {\n",
       "        text-align: right;\n",
       "    }\n",
       "</style>\n",
       "<table border=\"1\" class=\"dataframe\">\n",
       "  <thead>\n",
       "    <tr style=\"text-align: right;\">\n",
       "      <th></th>\n",
       "      <th>tavg</th>\n",
       "      <th>tmin</th>\n",
       "      <th>tmax</th>\n",
       "      <th>prcp</th>\n",
       "      <th>wspd</th>\n",
       "      <th>pres</th>\n",
       "      <th>tsun</th>\n",
       "    </tr>\n",
       "    <tr>\n",
       "      <th>time</th>\n",
       "      <th></th>\n",
       "      <th></th>\n",
       "      <th></th>\n",
       "      <th></th>\n",
       "      <th></th>\n",
       "      <th></th>\n",
       "      <th></th>\n",
       "    </tr>\n",
       "  </thead>\n",
       "  <tbody>\n",
       "    <tr>\n",
       "      <th>2021-01-01</th>\n",
       "      <td>22.6</td>\n",
       "      <td>17.7</td>\n",
       "      <td>27.6</td>\n",
       "      <td>21.0</td>\n",
       "      <td>7.3</td>\n",
       "      <td>1014.7</td>\n",
       "      <td>8640.0</td>\n",
       "    </tr>\n",
       "    <tr>\n",
       "      <th>2021-02-01</th>\n",
       "      <td>23.6</td>\n",
       "      <td>16.9</td>\n",
       "      <td>30.3</td>\n",
       "      <td>10.0</td>\n",
       "      <td>9.2</td>\n",
       "      <td>1014.2</td>\n",
       "      <td>12240.0</td>\n",
       "    </tr>\n",
       "    <tr>\n",
       "      <th>2021-03-01</th>\n",
       "      <td>26.8</td>\n",
       "      <td>19.5</td>\n",
       "      <td>34.0</td>\n",
       "      <td>0.0</td>\n",
       "      <td>9.3</td>\n",
       "      <td>1012.4</td>\n",
       "      <td>14100.0</td>\n",
       "    </tr>\n",
       "    <tr>\n",
       "      <th>2021-04-01</th>\n",
       "      <td>28.2</td>\n",
       "      <td>22.1</td>\n",
       "      <td>34.2</td>\n",
       "      <td>118.0</td>\n",
       "      <td>7.2</td>\n",
       "      <td>1011.3</td>\n",
       "      <td>9780.0</td>\n",
       "    </tr>\n",
       "    <tr>\n",
       "      <th>2021-05-01</th>\n",
       "      <td>26.9</td>\n",
       "      <td>22.1</td>\n",
       "      <td>31.8</td>\n",
       "      <td>131.0</td>\n",
       "      <td>9.8</td>\n",
       "      <td>1009.4</td>\n",
       "      <td>11220.0</td>\n",
       "    </tr>\n",
       "  </tbody>\n",
       "</table>\n",
       "</div>"
      ],
      "text/plain": [
       "            tavg  tmin  tmax   prcp  wspd    pres     tsun\n",
       "time                                                      \n",
       "2021-01-01  22.6  17.7  27.6   21.0   7.3  1014.7   8640.0\n",
       "2021-02-01  23.6  16.9  30.3   10.0   9.2  1014.2  12240.0\n",
       "2021-03-01  26.8  19.5  34.0    0.0   9.3  1012.4  14100.0\n",
       "2021-04-01  28.2  22.1  34.2  118.0   7.2  1011.3   9780.0\n",
       "2021-05-01  26.9  22.1  31.8  131.0   9.8  1009.4  11220.0"
      ]
     },
     "execution_count": 13,
     "metadata": {},
     "output_type": "execute_result"
    }
   ],
   "source": [
    "# Show dataframe\n",
    "data.head()"
   ]
  },
  {
   "cell_type": "markdown",
   "id": "f99f9008",
   "metadata": {},
   "source": [
    "## Example"
   ]
  },
  {
   "cell_type": "code",
   "execution_count": 40,
   "id": "8151b9f9",
   "metadata": {},
   "outputs": [],
   "source": [
    "import math\n",
    "import warnings\n",
    "import pandas as pd\n",
    "from prophet import Prophet\n",
    "from datetime import datetime\n",
    "import matplotlib.pyplot as plt\n",
    "warnings.filterwarnings('ignore')\n",
    "from sklearn.metrics import mean_squared_error\n",
    "\n",
    "from meteostat import Point\n",
    "from meteostat import Hourly \n",
    "from meteostat import Daily\n",
    "from meteostat import Monthly"
   ]
  },
  {
   "cell_type": "code",
   "execution_count": 41,
   "id": "21d8ec3b",
   "metadata": {},
   "outputs": [],
   "source": [
    "# Set time period\n",
    "start = datetime(2021, 1, 1)\n",
    "end = datetime(2022, 9, 30)\n",
    "\n",
    "# Create Point for Bangalore, KARNATAKA\n",
    "place = Point(12.971599, 77.594566)\n",
    "data = Daily(place, start, end)\n",
    "data = data.fetch()"
   ]
  },
  {
   "cell_type": "code",
   "execution_count": 42,
   "id": "5155ad56",
   "metadata": {},
   "outputs": [
    {
     "data": {
      "text/plain": [
       "((608, 10), (30, 10))"
      ]
     },
     "execution_count": 42,
     "metadata": {},
     "output_type": "execute_result"
    }
   ],
   "source": [
    "train = data.loc[:'2022-08-31']\n",
    "test = data.loc['2022-09-01':]\n",
    "\n",
    "train.shape, test.shape"
   ]
  },
  {
   "cell_type": "code",
   "execution_count": 43,
   "id": "5ef3093f",
   "metadata": {},
   "outputs": [],
   "source": [
    "train = data[['tavg']]\n",
    "train = train.reset_index()\n",
    "train.columns = ['ds', 'y']"
   ]
  },
  {
   "cell_type": "code",
   "execution_count": 44,
   "id": "985410f0",
   "metadata": {},
   "outputs": [
    {
     "name": "stderr",
     "output_type": "stream",
     "text": [
      "INFO:prophet:Disabling yearly seasonality. Run prophet with yearly_seasonality=True to override this.\n",
      "INFO:prophet:Disabling daily seasonality. Run prophet with daily_seasonality=True to override this.\n"
     ]
    },
    {
     "name": "stdout",
     "output_type": "stream",
     "text": [
      "num_rows 6\n",
      "num_columns 2\n",
      "self.sorted_labels[-1] [0 1 0 1 0 1 0 1 0 1 0 1]\n",
      "stride 2\n",
      "comp_index [0 0 1 1 2 2 3 3 4 4 5 5]\n",
      "self.lift 0\n",
      "self.full_shape (6, 2)\n",
      "np.prod(self.full_shape) 12\n",
      "mask shape (12,)\n",
      "num_rows 6\n",
      "num_columns 2\n",
      "self.sorted_labels[-1] [0 1 0 1 0 1 0 1 0 1 0 1]\n",
      "stride 2\n",
      "comp_index [0 0 1 1 2 2 3 3 4 4 5 5]\n",
      "self.lift 0\n",
      "self.full_shape (6, 2)\n",
      "np.prod(self.full_shape) 12\n",
      "mask shape (12,)\n",
      "num_rows 6\n",
      "num_columns 2\n",
      "self.sorted_labels[-1] [0 1 0 1 0 1 0 1 0 1 0 1]\n",
      "stride 2\n",
      "comp_index [0 0 1 1 2 2 3 3 4 4 5 5]\n",
      "self.lift 0\n",
      "self.full_shape (6, 2)\n",
      "np.prod(self.full_shape) 12\n",
      "mask shape (12,)\n"
     ]
    }
   ],
   "source": [
    "model = Prophet()\n",
    "model.fit(train)\n",
    "future = pd.DataFrame(test.index.values)\n",
    "future.columns = ['ds']\n",
    "forecast = model.predict(future)"
   ]
  },
  {
   "cell_type": "code",
   "execution_count": 45,
   "id": "5c01ce8b",
   "metadata": {},
   "outputs": [
    {
     "name": "stdout",
     "output_type": "stream",
     "text": [
      "RMSE: 0.9931755437324493\n"
     ]
    }
   ],
   "source": [
    "# calculate MAE between expected and predicted values \n",
    "y_true = test['tavg'].values\n",
    "y_pred = forecast['yhat'].values\n",
    "rmse = math.sqrt(mean_squared_error(y_true, y_pred))\n",
    "print('RMSE:', rmse)"
   ]
  },
  {
   "cell_type": "code",
   "execution_count": 46,
   "id": "f0446208",
   "metadata": {},
   "outputs": [
    {
     "data": {
      "image/png": "[encoded data removed]",
      "text/plain": [
       "<Figure size 432x288 with 1 Axes>"
      ]
     },
     "metadata": {
      "needs_background": "light"
     },
     "output_type": "display_data"
    }
   ],
   "source": [
    "# plot expected vs actual\n",
    "plt.plot(y_true, label='Actual')\n",
    "plt.plot(y_pred, label='Predicted')\n",
    "plt.ylim(ymax=30, ymin=15)\n",
    "plt.legend()\n",
    "plt.show()"
   ]
  },
  {
   "cell_type": "code",
   "execution_count": null,
   "id": "c9fa5087",
   "metadata": {},
   "outputs": [],
   "source": []
  }
 ],
 "metadata": {
  "kernelspec": {
   "display_name": "Python 3 (ipykernel)",
   "language": "python",
   "name": "python3"
  },
  "language_info": {
   "codemirror_mode": {
    "name": "ipython",
    "version": 3
   },
   "file_extension": ".py",
   "mimetype": "text/x-python",
   "name": "python",
   "nbconvert_exporter": "python",
   "pygments_lexer": "ipython3",
   "version": "3.9.12"
  }
 },
 "nbformat": 4,
 "nbformat_minor": 5
}
